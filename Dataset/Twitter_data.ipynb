{
 "cells": [
  {
   "cell_type": "code",
   "execution_count": 25,
   "id": "d83ff506",
   "metadata": {},
   "outputs": [
    {
     "name": "stderr",
     "output_type": "stream",
     "text": [
      "[nltk_data] Downloading package vader_lexicon to\n",
      "[nltk_data]     C:\\Users\\gunin\\AppData\\Roaming\\nltk_data...\n",
      "[nltk_data]   Package vader_lexicon is already up-to-date!\n",
      "[nltk_data] Downloading package words to\n",
      "[nltk_data]     C:\\Users\\gunin\\AppData\\Roaming\\nltk_data...\n",
      "[nltk_data]   Package words is already up-to-date!\n"
     ]
    },
    {
     "data": {
      "text/plain": [
       "True"
      ]
     },
     "execution_count": 25,
     "metadata": {},
     "output_type": "execute_result"
    }
   ],
   "source": [
    "from tokenize import String\n",
    "from textblob import TextBlob as tb\n",
    "import pandas as pd\n",
    "import re\n",
    "import nltk\n",
    "from nltk.sentiment import SentimentIntensityAnalyzer as Sia\n",
    "from gensim.parsing.preprocessing import remove_stopwords\n",
    "from pathlib import Path\n",
    "from collections import defaultdict\n",
    "import numpy as np\n",
    "from PIL import Image\n",
    "from wordcloud import WordCloud, ImageColorGenerator, STOPWORDS \n",
    "import matplotlib.pyplot as plt\n",
    "import hvplot.pandas \n",
    "import hvplot.dask  \n",
    "import tweepy\n",
    "client = tweepy.Client(\"AAAAAAAAAAAAAAAAAAAAAGvbawEAAAAAxvxnJu9E%2F%2FPCe5Oz0irJC5BDvZM%3DEsqky8zPsYhadIeHKzCVsaB0UXGz28FFb2UBqtnNDOJkmfAkfN\")\n",
    "import GetOldTweets3 as got\n",
    "\n",
    "%matplotlib inline\n",
    "\n",
    "nltk.download('vader_lexicon')\n",
    "nltk.download('words')"
   ]
  },
  {
   "cell_type": "code",
   "execution_count": 13,
   "id": "f8dc7295",
   "metadata": {},
   "outputs": [],
   "source": [
    "def tweets(start_time, end_time, iterations, query):\n",
    "    datelist = pd.date_range(start_time, end_time, periods=iterations).tolist()\n",
    "    tweets=[]\n",
    "    date=[]\n",
    "    #prob=[]\n",
    "    #sentim=[]\n",
    "    a=0\n",
    "    for time in datelist:\n",
    "        if a>1:\n",
    "            #Fetching Tweets\n",
    "            response = client.search_recent_tweets(query, max_results=100, start_time=start, end_time=time, tweet_fields=[\"created_at\"])\n",
    "            response.data\n",
    "            if type(response.data) != type(None):\n",
    "                #Data Cleaning\n",
    "                for i in response.data:\n",
    "                    tw=i\n",
    "                    tw=str(i)\n",
    "                    tw=tw.lower()\n",
    "                    tw=tw.split()\n",
    "                    tw=' '.join(word for word in tw)\n",
    "                    #Sentiment analysis\n",
    "                    if len(tw) > 0:                        \n",
    "                        tweets.append(tw)\n",
    "                        date.append(i.created_at)                        \n",
    "        start=time\n",
    "        a=a+1\n",
    "        \n",
    "    tweet_df=pd.DataFrame({'time':date, 'tweet':tweets})\n",
    "    tweet_df=tweet_df.sort_values(by='time', ascending=True).set_index('time')\n",
    "    return tweet_df"
   ]
  },
  {
   "cell_type": "code",
   "execution_count": 14,
   "id": "644f4d3e",
   "metadata": {},
   "outputs": [],
   "source": [
    "btc_tweets = tweets('2022-05-27', '2022-06-02', 100, 'btc OR bitcoin OR crypto -is:retweet lang:en')"
   ]
  },
  {
   "cell_type": "code",
   "execution_count": 15,
   "id": "1799d13a",
   "metadata": {},
   "outputs": [
    {
     "data": {
      "text/html": [
       "<div>\n",
       "<style scoped>\n",
       "    .dataframe tbody tr th:only-of-type {\n",
       "        vertical-align: middle;\n",
       "    }\n",
       "\n",
       "    .dataframe tbody tr th {\n",
       "        vertical-align: top;\n",
       "    }\n",
       "\n",
       "    .dataframe thead th {\n",
       "        text-align: right;\n",
       "    }\n",
       "</style>\n",
       "<table border=\"1\" class=\"dataframe\">\n",
       "  <thead>\n",
       "    <tr style=\"text-align: right;\">\n",
       "      <th></th>\n",
       "      <th>tweet</th>\n",
       "    </tr>\n",
       "    <tr>\n",
       "      <th>time</th>\n",
       "      <th></th>\n",
       "    </tr>\n",
       "  </thead>\n",
       "  <tbody>\n",
       "    <tr>\n",
       "      <th>2022-06-01 23:59:59+00:00</th>\n",
       "      <td>@viamirror #blockflix is the first-ever tv str...</td>\n",
       "    </tr>\n",
       "    <tr>\n",
       "      <th>2022-06-01 23:59:59+00:00</th>\n",
       "      <td>rt @egor_shirinsky: night comes to the kingdom...</td>\n",
       "    </tr>\n",
       "    <tr>\n",
       "      <th>2022-06-01 23:59:59+00:00</th>\n",
       "      <td>rt @goshfinder: 💥 weekly most voted influencer...</td>\n",
       "    </tr>\n",
       "    <tr>\n",
       "      <th>2022-06-01 23:59:59+00:00</th>\n",
       "      <td>guys ! i made 3k to 33k after joined https://t...</td>\n",
       "    </tr>\n",
       "    <tr>\n",
       "      <th>2022-06-01 23:59:59+00:00</th>\n",
       "      <td>rt @_jokernft_: #nft 🎁giveaway 🎁 $eth 1️⃣ must...</td>\n",
       "    </tr>\n",
       "  </tbody>\n",
       "</table>\n",
       "</div>"
      ],
      "text/plain": [
       "                                                                       tweet\n",
       "time                                                                        \n",
       "2022-06-01 23:59:59+00:00  @viamirror #blockflix is the first-ever tv str...\n",
       "2022-06-01 23:59:59+00:00  rt @egor_shirinsky: night comes to the kingdom...\n",
       "2022-06-01 23:59:59+00:00  rt @goshfinder: 💥 weekly most voted influencer...\n",
       "2022-06-01 23:59:59+00:00  guys ! i made 3k to 33k after joined https://t...\n",
       "2022-06-01 23:59:59+00:00  rt @_jokernft_: #nft 🎁giveaway 🎁 $eth 1️⃣ must..."
      ]
     },
     "execution_count": 15,
     "metadata": {},
     "output_type": "execute_result"
    }
   ],
   "source": [
    "eth_tweets = tweets('2022-05-27', '2022-06-02', 100, 'eth OR ethereum OR crypto -is:retweet lang:en')\n",
    "eth_tweets.tail()"
   ]
  },
  {
   "cell_type": "code",
   "execution_count": 16,
   "id": "f460917e",
   "metadata": {},
   "outputs": [],
   "source": [
    "bin_tweets = tweets('2022-05-27', '2022-06-02', 100, 'binance OR crypto -is:retweet lang:en')"
   ]
  },
  {
   "cell_type": "code",
   "execution_count": 17,
   "id": "5eb4b88a",
   "metadata": {},
   "outputs": [],
   "source": [
    "xrp_tweets = tweets('2022-05-27', '2022-06-02', 100, 'xrp OR ripple OR crypto -is:retweet lang:en')"
   ]
  },
  {
   "cell_type": "code",
   "execution_count": 20,
   "id": "b58bb1fb",
   "metadata": {},
   "outputs": [],
   "source": [
    "ada_tweets = tweets('2022-05-27', '2022-06-02', 100, 'ada OR cardano OR crypto -is:retweet lang:en')"
   ]
  },
  {
   "cell_type": "code",
   "execution_count": 21,
   "id": "97116f05",
   "metadata": {},
   "outputs": [],
   "source": [
    "sol_tweets = tweets('2022-05-27', '2022-06-02', 100, 'sol OR solana OR crypto -is:retweet lang:en')"
   ]
  },
  {
   "cell_type": "code",
   "execution_count": 22,
   "id": "a5279496",
   "metadata": {},
   "outputs": [],
   "source": [
    "matic_tweets = tweets('2022-05-27', '2022-06-02', 100, 'matic OR polygon OR crypto -is:retweet lang:en')"
   ]
  },
  {
   "cell_type": "code",
   "execution_count": 23,
   "id": "884d9135",
   "metadata": {},
   "outputs": [],
   "source": [
    "sand_tweets = tweets('2022-05-27', '2022-06-02', 100, 'sandbox crypto -is:retweet lang:en')"
   ]
  },
  {
   "cell_type": "code",
   "execution_count": 26,
   "id": "cef1c986",
   "metadata": {},
   "outputs": [],
   "source": [
    "mana_tweets = tweets('2022-05-27', '2022-06-02', 100, 'mana OR decentraland OR crypto -is:retweet lang:en')"
   ]
  },
  {
   "cell_type": "code",
   "execution_count": 27,
   "id": "569de627",
   "metadata": {},
   "outputs": [],
   "source": [
    "algo_tweets = tweets('2022-05-27', '2022-06-02', 100, 'algo OR algorand OR crypto -is:retweet lang:en')"
   ]
  },
  {
   "cell_type": "code",
   "execution_count": 28,
   "id": "7d81dbed",
   "metadata": {},
   "outputs": [],
   "source": [
    "sia = Sia()\n",
    "from itertools import chain\n",
    "\n",
    "\n",
    "def clean_text(input_str: str) -> str:\n",
    "    input_str = input_str.lower()\n",
    "    input_str = re.sub(r\"(?:\\@|http?\\://|https?\\://|www)\\S+\", \"\", input_str)\n",
    "    input_str = \" \".join(input_str.split())\n",
    "    input_str = re.sub(\"[^A-Za-z0-9]\",\" \",input_str)\n",
    "    input_str = re.sub(r'^https?:\\/\\/.*[\\r\\n]*', '', input_str, flags=re.MULTILINE)\n",
    "    input_str = re.sub(r'\\w+:\\/{2}[\\d\\w-]+(\\.[\\d\\w-]+)*(?:(?:\\/[^\\s/]*))*', '', input_str)\n",
    "    input_str = re.sub(r\"www.\\S+\",'',input_str)\n",
    "    input_str = remove_stopwords(input_str)\n",
    "    input_str = ''.join([i for i in input_str if not i.isdigit()])\n",
    "    return input_str\n",
    "\n",
    "def build_sentiment_df(tweet_dataframe, target_column):\n",
    "    # getting the corresponding data in lists\n",
    "    raw_tweets = tweet_dataframe[target_column].tolist()\n",
    "    cleaned_tweets = [clean_text(i) for i in raw_tweets]\n",
    "    nltk_polarity = [sia.polarity_scores(i)['compound'] for i in cleaned_tweets]\n",
    "    \n",
    "    # building the dataframe\n",
    "    final_df = tweet_dataframe.copy()\n",
    "    final_df['cleaned_tweets'] = cleaned_tweets\n",
    "    final_df['nltk_polarity'] = nltk_polarity\n",
    "\n",
    "    final_df = final_df[final_df['tweet'].apply(lambda x: len(x.split(',')) < 280)]\n",
    "    final_df = final_df.drop_duplicates()\n",
    "    final_df = final_df[final_df['tweet'].str.contains(\"rt \") == False]\n",
    "    final_df = final_df[final_df['nltk_polarity'] != 0.0000] \n",
    "\n",
    "    return final_df\n",
    "\n"
   ]
  },
  {
   "cell_type": "code",
   "execution_count": 29,
   "id": "0347f068",
   "metadata": {},
   "outputs": [
    {
     "data": {
      "text/html": [
       "<div>\n",
       "<style scoped>\n",
       "    .dataframe tbody tr th:only-of-type {\n",
       "        vertical-align: middle;\n",
       "    }\n",
       "\n",
       "    .dataframe tbody tr th {\n",
       "        vertical-align: top;\n",
       "    }\n",
       "\n",
       "    .dataframe thead th {\n",
       "        text-align: right;\n",
       "    }\n",
       "</style>\n",
       "<table border=\"1\" class=\"dataframe\">\n",
       "  <thead>\n",
       "    <tr style=\"text-align: right;\">\n",
       "      <th></th>\n",
       "      <th>tweet</th>\n",
       "      <th>cleaned_tweets</th>\n",
       "      <th>nltk_polarity</th>\n",
       "    </tr>\n",
       "    <tr>\n",
       "      <th>time</th>\n",
       "      <th></th>\n",
       "      <th></th>\n",
       "      <th></th>\n",
       "    </tr>\n",
       "  </thead>\n",
       "  <tbody>\n",
       "    <tr>\n",
       "      <th>2022-05-27 02:54:09+00:00</th>\n",
       "      <td>@secgov is corrupt! @garygensler @uscongress #...</td>\n",
       "      <td>corrupt usa crypto xrp want truth justice</td>\n",
       "      <td>0.7184</td>\n",
       "    </tr>\n",
       "    <tr>\n",
       "      <th>2022-05-27 02:54:09+00:00</th>\n",
       "      <td>@twobitidiot why no one say something like lin...</td>\n",
       "      <td>like link oracle key infrastructure base crypt...</td>\n",
       "      <td>0.3612</td>\n",
       "    </tr>\n",
       "    <tr>\n",
       "      <th>2022-05-27 02:54:09+00:00</th>\n",
       "      <td>getting paid crypto to create whatever content...</td>\n",
       "      <td>getting paid crypto create content want post s...</td>\n",
       "      <td>0.3400</td>\n",
       "    </tr>\n",
       "    <tr>\n",
       "      <th>2022-05-27 02:54:11+00:00</th>\n",
       "      <td>institutional investors seek safe haven in cry...</td>\n",
       "      <td>institutional investors seek safe haven crypto...</td>\n",
       "      <td>0.1280</td>\n",
       "    </tr>\n",
       "    <tr>\n",
       "      <th>2022-05-27 02:54:12+00:00</th>\n",
       "      <td>really very excellent project. the project was...</td>\n",
       "      <td>excellent project project executed professiona...</td>\n",
       "      <td>0.5859</td>\n",
       "    </tr>\n",
       "  </tbody>\n",
       "</table>\n",
       "</div>"
      ],
      "text/plain": [
       "                                                                       tweet  \\\n",
       "time                                                                           \n",
       "2022-05-27 02:54:09+00:00  @secgov is corrupt! @garygensler @uscongress #...   \n",
       "2022-05-27 02:54:09+00:00  @twobitidiot why no one say something like lin...   \n",
       "2022-05-27 02:54:09+00:00  getting paid crypto to create whatever content...   \n",
       "2022-05-27 02:54:11+00:00  institutional investors seek safe haven in cry...   \n",
       "2022-05-27 02:54:12+00:00  really very excellent project. the project was...   \n",
       "\n",
       "                                                              cleaned_tweets  \\\n",
       "time                                                                           \n",
       "2022-05-27 02:54:09+00:00          corrupt usa crypto xrp want truth justice   \n",
       "2022-05-27 02:54:09+00:00  like link oracle key infrastructure base crypt...   \n",
       "2022-05-27 02:54:09+00:00  getting paid crypto create content want post s...   \n",
       "2022-05-27 02:54:11+00:00  institutional investors seek safe haven crypto...   \n",
       "2022-05-27 02:54:12+00:00  excellent project project executed professiona...   \n",
       "\n",
       "                           nltk_polarity  \n",
       "time                                      \n",
       "2022-05-27 02:54:09+00:00         0.7184  \n",
       "2022-05-27 02:54:09+00:00         0.3612  \n",
       "2022-05-27 02:54:09+00:00         0.3400  \n",
       "2022-05-27 02:54:11+00:00         0.1280  \n",
       "2022-05-27 02:54:12+00:00         0.5859  "
      ]
     },
     "execution_count": 29,
     "metadata": {},
     "output_type": "execute_result"
    }
   ],
   "source": [
    "btc_data = build_sentiment_df(btc_tweets, \"tweet\")\n",
    "btc_data.head()"
   ]
  },
  {
   "cell_type": "code",
   "execution_count": 30,
   "id": "18e209f8",
   "metadata": {},
   "outputs": [
    {
     "data": {
      "text/html": [
       "<div>\n",
       "<style scoped>\n",
       "    .dataframe tbody tr th:only-of-type {\n",
       "        vertical-align: middle;\n",
       "    }\n",
       "\n",
       "    .dataframe tbody tr th {\n",
       "        vertical-align: top;\n",
       "    }\n",
       "\n",
       "    .dataframe thead th {\n",
       "        text-align: right;\n",
       "    }\n",
       "</style>\n",
       "<table border=\"1\" class=\"dataframe\">\n",
       "  <thead>\n",
       "    <tr style=\"text-align: right;\">\n",
       "      <th></th>\n",
       "      <th>tweet</th>\n",
       "      <th>cleaned_tweets</th>\n",
       "      <th>nltk_polarity</th>\n",
       "    </tr>\n",
       "    <tr>\n",
       "      <th>time</th>\n",
       "      <th></th>\n",
       "      <th></th>\n",
       "      <th></th>\n",
       "    </tr>\n",
       "  </thead>\n",
       "  <tbody>\n",
       "    <tr>\n",
       "      <th>2022-05-27 02:54:22+00:00</th>\n",
       "      <td>@chitaglorya__ @twinutoken don't miss out on t...</td>\n",
       "      <td>t miss profitable crypto community join channe...</td>\n",
       "      <td>0.5423</td>\n",
       "    </tr>\n",
       "    <tr>\n",
       "      <th>2022-05-27 02:54:22+00:00</th>\n",
       "      <td>@justnthephotog i saw a cool bird was bout to ...</td>\n",
       "      <td>saw cool bird bout snag trying eth balance dol...</td>\n",
       "      <td>0.7650</td>\n",
       "    </tr>\n",
       "    <tr>\n",
       "      <th>2022-05-27 02:54:22+00:00</th>\n",
       "      <td>@buckleupbrandon are you gonna try to play the...</td>\n",
       "      <td>gonna try play bounce eth think bounce</td>\n",
       "      <td>0.3400</td>\n",
       "    </tr>\n",
       "    <tr>\n",
       "      <th>2022-05-27 02:54:22+00:00</th>\n",
       "      <td>🐳🐳🐳 nft whale trade ➡️transfer: [0x9cce3c] -&amp;g...</td>\n",
       "      <td>nft whale trade transfer xccec gt xaee nft mba...</td>\n",
       "      <td>0.2732</td>\n",
       "    </tr>\n",
       "    <tr>\n",
       "      <th>2022-05-27 02:54:23+00:00</th>\n",
       "      <td>i believe this is a faithful project. the proj...</td>\n",
       "      <td>believe faithful project projector lot attract...</td>\n",
       "      <td>0.9118</td>\n",
       "    </tr>\n",
       "  </tbody>\n",
       "</table>\n",
       "</div>"
      ],
      "text/plain": [
       "                                                                       tweet  \\\n",
       "time                                                                           \n",
       "2022-05-27 02:54:22+00:00  @chitaglorya__ @twinutoken don't miss out on t...   \n",
       "2022-05-27 02:54:22+00:00  @justnthephotog i saw a cool bird was bout to ...   \n",
       "2022-05-27 02:54:22+00:00  @buckleupbrandon are you gonna try to play the...   \n",
       "2022-05-27 02:54:22+00:00  🐳🐳🐳 nft whale trade ➡️transfer: [0x9cce3c] -&g...   \n",
       "2022-05-27 02:54:23+00:00  i believe this is a faithful project. the proj...   \n",
       "\n",
       "                                                              cleaned_tweets  \\\n",
       "time                                                                           \n",
       "2022-05-27 02:54:22+00:00  t miss profitable crypto community join channe...   \n",
       "2022-05-27 02:54:22+00:00  saw cool bird bout snag trying eth balance dol...   \n",
       "2022-05-27 02:54:22+00:00            gonna try play bounce eth think bounce    \n",
       "2022-05-27 02:54:22+00:00  nft whale trade transfer xccec gt xaee nft mba...   \n",
       "2022-05-27 02:54:23+00:00  believe faithful project projector lot attract...   \n",
       "\n",
       "                           nltk_polarity  \n",
       "time                                      \n",
       "2022-05-27 02:54:22+00:00         0.5423  \n",
       "2022-05-27 02:54:22+00:00         0.7650  \n",
       "2022-05-27 02:54:22+00:00         0.3400  \n",
       "2022-05-27 02:54:22+00:00         0.2732  \n",
       "2022-05-27 02:54:23+00:00         0.9118  "
      ]
     },
     "execution_count": 30,
     "metadata": {},
     "output_type": "execute_result"
    }
   ],
   "source": [
    "eth_data = build_sentiment_df(eth_tweets, \"tweet\")\n",
    "eth_data.head()"
   ]
  },
  {
   "cell_type": "code",
   "execution_count": 31,
   "id": "6a1051b3",
   "metadata": {},
   "outputs": [
    {
     "data": {
      "text/plain": [
       "(2364, 3)"
      ]
     },
     "execution_count": 31,
     "metadata": {},
     "output_type": "execute_result"
    }
   ],
   "source": [
    "eth_data.shape"
   ]
  },
  {
   "cell_type": "code",
   "execution_count": 32,
   "id": "dd923761",
   "metadata": {},
   "outputs": [
    {
     "data": {
      "text/plain": [
       "(3094, 3)"
      ]
     },
     "execution_count": 32,
     "metadata": {},
     "output_type": "execute_result"
    }
   ],
   "source": [
    "btc_data.shape"
   ]
  },
  {
   "cell_type": "code",
   "execution_count": 33,
   "id": "5956925b",
   "metadata": {},
   "outputs": [],
   "source": [
    "bin_data = build_sentiment_df(bin_tweets, \"tweet\")\n",
    "ada_data = build_sentiment_df(ada_tweets, \"tweet\")\n",
    "xrp_data = build_sentiment_df(xrp_tweets, \"tweet\")\n",
    "sol_data = build_sentiment_df(sol_tweets, \"tweet\")\n",
    "matic_data = build_sentiment_df(matic_tweets, \"tweet\")\n",
    "sand_data = build_sentiment_df(sand_tweets, \"tweet\")\n",
    "algo_data = build_sentiment_df(algo_tweets, \"tweet\")\n",
    "mana_data = build_sentiment_df(mana_tweets, \"tweet\")"
   ]
  },
  {
   "cell_type": "code",
   "execution_count": 34,
   "id": "51f618bf",
   "metadata": {},
   "outputs": [
    {
     "data": {
      "text/plain": [
       "(4017, 3)"
      ]
     },
     "execution_count": 34,
     "metadata": {},
     "output_type": "execute_result"
    }
   ],
   "source": [
    "bin_data.shape"
   ]
  },
  {
   "cell_type": "code",
   "execution_count": 35,
   "id": "1ed2658a",
   "metadata": {},
   "outputs": [
    {
     "data": {
      "text/plain": [
       "(2400, 3)"
      ]
     },
     "execution_count": 35,
     "metadata": {},
     "output_type": "execute_result"
    }
   ],
   "source": [
    "ada_data.shape"
   ]
  },
  {
   "cell_type": "code",
   "execution_count": 36,
   "id": "cf8f50c8",
   "metadata": {},
   "outputs": [
    {
     "data": {
      "text/plain": [
       "(5165, 3)"
      ]
     },
     "execution_count": 36,
     "metadata": {},
     "output_type": "execute_result"
    }
   ],
   "source": [
    "xrp_data.shape"
   ]
  },
  {
   "cell_type": "code",
   "execution_count": 37,
   "id": "b2896613",
   "metadata": {},
   "outputs": [
    {
     "data": {
      "text/plain": [
       "(1205, 3)"
      ]
     },
     "execution_count": 37,
     "metadata": {},
     "output_type": "execute_result"
    }
   ],
   "source": [
    "sol_data.shape"
   ]
  },
  {
   "cell_type": "code",
   "execution_count": 38,
   "id": "42a26980",
   "metadata": {},
   "outputs": [
    {
     "data": {
      "text/plain": [
       "(3094, 3)"
      ]
     },
     "execution_count": 38,
     "metadata": {},
     "output_type": "execute_result"
    }
   ],
   "source": [
    "btc_data.shape"
   ]
  },
  {
   "cell_type": "code",
   "execution_count": 39,
   "id": "d155f74d",
   "metadata": {},
   "outputs": [
    {
     "data": {
      "text/html": [
       "<div>\n",
       "<style scoped>\n",
       "    .dataframe tbody tr th:only-of-type {\n",
       "        vertical-align: middle;\n",
       "    }\n",
       "\n",
       "    .dataframe tbody tr th {\n",
       "        vertical-align: top;\n",
       "    }\n",
       "\n",
       "    .dataframe thead th {\n",
       "        text-align: right;\n",
       "    }\n",
       "</style>\n",
       "<table border=\"1\" class=\"dataframe\">\n",
       "  <thead>\n",
       "    <tr style=\"text-align: right;\">\n",
       "      <th></th>\n",
       "      <th>tweet</th>\n",
       "      <th>cleaned_tweets</th>\n",
       "      <th>nltk_polarity</th>\n",
       "    </tr>\n",
       "    <tr>\n",
       "      <th>time</th>\n",
       "      <th></th>\n",
       "      <th></th>\n",
       "      <th></th>\n",
       "    </tr>\n",
       "  </thead>\n",
       "  <tbody>\n",
       "    <tr>\n",
       "      <th>2022-05-27 02:54:09+00:00</th>\n",
       "      <td>@secgov is corrupt! @garygensler @uscongress #...</td>\n",
       "      <td>corrupt usa crypto xrp want truth justice</td>\n",
       "      <td>0.7184</td>\n",
       "    </tr>\n",
       "    <tr>\n",
       "      <th>2022-05-27 02:54:09+00:00</th>\n",
       "      <td>@twobitidiot why no one say something like lin...</td>\n",
       "      <td>like link oracle key infrastructure base crypt...</td>\n",
       "      <td>0.3612</td>\n",
       "    </tr>\n",
       "    <tr>\n",
       "      <th>2022-05-27 02:54:09+00:00</th>\n",
       "      <td>getting paid crypto to create whatever content...</td>\n",
       "      <td>getting paid crypto create content want post s...</td>\n",
       "      <td>0.3400</td>\n",
       "    </tr>\n",
       "    <tr>\n",
       "      <th>2022-05-27 02:54:11+00:00</th>\n",
       "      <td>institutional investors seek safe haven in cry...</td>\n",
       "      <td>institutional investors seek safe haven crypto...</td>\n",
       "      <td>0.1280</td>\n",
       "    </tr>\n",
       "    <tr>\n",
       "      <th>2022-05-27 02:54:12+00:00</th>\n",
       "      <td>really very excellent project. the project was...</td>\n",
       "      <td>excellent project project executed professiona...</td>\n",
       "      <td>0.5859</td>\n",
       "    </tr>\n",
       "  </tbody>\n",
       "</table>\n",
       "</div>"
      ],
      "text/plain": [
       "                                                                       tweet  \\\n",
       "time                                                                           \n",
       "2022-05-27 02:54:09+00:00  @secgov is corrupt! @garygensler @uscongress #...   \n",
       "2022-05-27 02:54:09+00:00  @twobitidiot why no one say something like lin...   \n",
       "2022-05-27 02:54:09+00:00  getting paid crypto to create whatever content...   \n",
       "2022-05-27 02:54:11+00:00  institutional investors seek safe haven in cry...   \n",
       "2022-05-27 02:54:12+00:00  really very excellent project. the project was...   \n",
       "\n",
       "                                                              cleaned_tweets  \\\n",
       "time                                                                           \n",
       "2022-05-27 02:54:09+00:00          corrupt usa crypto xrp want truth justice   \n",
       "2022-05-27 02:54:09+00:00  like link oracle key infrastructure base crypt...   \n",
       "2022-05-27 02:54:09+00:00  getting paid crypto create content want post s...   \n",
       "2022-05-27 02:54:11+00:00  institutional investors seek safe haven crypto...   \n",
       "2022-05-27 02:54:12+00:00  excellent project project executed professiona...   \n",
       "\n",
       "                           nltk_polarity  \n",
       "time                                      \n",
       "2022-05-27 02:54:09+00:00         0.7184  \n",
       "2022-05-27 02:54:09+00:00         0.3612  \n",
       "2022-05-27 02:54:09+00:00         0.3400  \n",
       "2022-05-27 02:54:11+00:00         0.1280  \n",
       "2022-05-27 02:54:12+00:00         0.5859  "
      ]
     },
     "execution_count": 39,
     "metadata": {},
     "output_type": "execute_result"
    }
   ],
   "source": [
    "btc_data.head()"
   ]
  },
  {
   "cell_type": "code",
   "execution_count": 40,
   "id": "252ca184",
   "metadata": {},
   "outputs": [
    {
     "data": {
      "text/html": [
       "<div>\n",
       "<style scoped>\n",
       "    .dataframe tbody tr th:only-of-type {\n",
       "        vertical-align: middle;\n",
       "    }\n",
       "\n",
       "    .dataframe tbody tr th {\n",
       "        vertical-align: top;\n",
       "    }\n",
       "\n",
       "    .dataframe thead th {\n",
       "        text-align: right;\n",
       "    }\n",
       "</style>\n",
       "<table border=\"1\" class=\"dataframe\">\n",
       "  <thead>\n",
       "    <tr style=\"text-align: right;\">\n",
       "      <th></th>\n",
       "      <th>tweet</th>\n",
       "      <th>cleaned_tweets</th>\n",
       "      <th>nltk_polarity</th>\n",
       "    </tr>\n",
       "    <tr>\n",
       "      <th>time</th>\n",
       "      <th></th>\n",
       "      <th></th>\n",
       "      <th></th>\n",
       "    </tr>\n",
       "  </thead>\n",
       "  <tbody>\n",
       "    <tr>\n",
       "      <th>2022-05-27 02:54:23+00:00</th>\n",
       "      <td>@dinoxdj99 ada ka jaehyun collector yg drop ? ...</td>\n",
       "      <td>ada ka jaehyun collector yg drop wkwkwkwk nnti...</td>\n",
       "      <td>0.0258</td>\n",
       "    </tr>\n",
       "    <tr>\n",
       "      <th>2022-05-27 02:54:23+00:00</th>\n",
       "      <td>@gyuacarat kpop merch nanti ada benefit pcnyaa...</td>\n",
       "      <td>kpop merch nanti ada benefit pcnyaaa dan keban...</td>\n",
       "      <td>0.4588</td>\n",
       "    </tr>\n",
       "    <tr>\n",
       "      <th>2022-05-27 02:54:24+00:00</th>\n",
       "      <td>@emfelwe beep 🚨 lagi cari app prem? ada dong! ...</td>\n",
       "      <td>beep lagi cari app prem ada dong ada netflix y...</td>\n",
       "      <td>0.4767</td>\n",
       "    </tr>\n",
       "    <tr>\n",
       "      <th>2022-05-27 02:54:24+00:00</th>\n",
       "      <td>@kelvisman @mononokeinuscam welcome to crypto 🤩</td>\n",
       "      <td>welcome crypto</td>\n",
       "      <td>0.4588</td>\n",
       "    </tr>\n",
       "    <tr>\n",
       "      <th>2022-05-27 02:54:24+00:00</th>\n",
       "      <td>hari rabu lah makin banyak pulak naik ulcer ba...</td>\n",
       "      <td>hari rabu lah makin banyak pulak naik ulcer ba...</td>\n",
       "      <td>-0.3400</td>\n",
       "    </tr>\n",
       "    <tr>\n",
       "      <th>...</th>\n",
       "      <td>...</td>\n",
       "      <td>...</td>\n",
       "      <td>...</td>\n",
       "    </tr>\n",
       "    <tr>\n",
       "      <th>2022-06-01 23:59:58+00:00</th>\n",
       "      <td>mooners and shakers: bitcoin dives back below ...</td>\n",
       "      <td>mooners shakers bitcoin dives k cardano solana...</td>\n",
       "      <td>0.0772</td>\n",
       "    </tr>\n",
       "    <tr>\n",
       "      <th>2022-06-01 23:59:58+00:00</th>\n",
       "      <td>joined a crypto cult today. i’m excited to see...</td>\n",
       "      <td>joined crypto cult today m excited goes</td>\n",
       "      <td>0.3400</td>\n",
       "    </tr>\n",
       "    <tr>\n",
       "      <th>2022-06-01 23:59:58+00:00</th>\n",
       "      <td>135/365 📍 hommieee ada late birthday gift nih ...</td>\n",
       "      <td>hommieee ada late birthday gift nih yang dit...</td>\n",
       "      <td>0.4404</td>\n",
       "    </tr>\n",
       "    <tr>\n",
       "      <th>2022-06-01 23:59:59+00:00</th>\n",
       "      <td>@viamirror #blockflix is the first-ever tv str...</td>\n",
       "      <td>blockflix tv streaming blockchain allows pay c...</td>\n",
       "      <td>-0.1027</td>\n",
       "    </tr>\n",
       "    <tr>\n",
       "      <th>2022-06-01 23:59:59+00:00</th>\n",
       "      <td>serem ya kasih komen di komunitas salah satu a...</td>\n",
       "      <td>serem ya kasih komen di komunitas salah satu a...</td>\n",
       "      <td>-0.2960</td>\n",
       "    </tr>\n",
       "  </tbody>\n",
       "</table>\n",
       "<p>2400 rows × 3 columns</p>\n",
       "</div>"
      ],
      "text/plain": [
       "                                                                       tweet  \\\n",
       "time                                                                           \n",
       "2022-05-27 02:54:23+00:00  @dinoxdj99 ada ka jaehyun collector yg drop ? ...   \n",
       "2022-05-27 02:54:23+00:00  @gyuacarat kpop merch nanti ada benefit pcnyaa...   \n",
       "2022-05-27 02:54:24+00:00  @emfelwe beep 🚨 lagi cari app prem? ada dong! ...   \n",
       "2022-05-27 02:54:24+00:00    @kelvisman @mononokeinuscam welcome to crypto 🤩   \n",
       "2022-05-27 02:54:24+00:00  hari rabu lah makin banyak pulak naik ulcer ba...   \n",
       "...                                                                      ...   \n",
       "2022-06-01 23:59:58+00:00  mooners and shakers: bitcoin dives back below ...   \n",
       "2022-06-01 23:59:58+00:00  joined a crypto cult today. i’m excited to see...   \n",
       "2022-06-01 23:59:58+00:00  135/365 📍 hommieee ada late birthday gift nih ...   \n",
       "2022-06-01 23:59:59+00:00  @viamirror #blockflix is the first-ever tv str...   \n",
       "2022-06-01 23:59:59+00:00  serem ya kasih komen di komunitas salah satu a...   \n",
       "\n",
       "                                                              cleaned_tweets  \\\n",
       "time                                                                           \n",
       "2022-05-27 02:54:23+00:00  ada ka jaehyun collector yg drop wkwkwkwk nnti...   \n",
       "2022-05-27 02:54:23+00:00  kpop merch nanti ada benefit pcnyaaa dan keban...   \n",
       "2022-05-27 02:54:24+00:00  beep lagi cari app prem ada dong ada netflix y...   \n",
       "2022-05-27 02:54:24+00:00                                     welcome crypto   \n",
       "2022-05-27 02:54:24+00:00  hari rabu lah makin banyak pulak naik ulcer ba...   \n",
       "...                                                                      ...   \n",
       "2022-06-01 23:59:58+00:00  mooners shakers bitcoin dives k cardano solana...   \n",
       "2022-06-01 23:59:58+00:00            joined crypto cult today m excited goes   \n",
       "2022-06-01 23:59:58+00:00    hommieee ada late birthday gift nih yang dit...   \n",
       "2022-06-01 23:59:59+00:00  blockflix tv streaming blockchain allows pay c...   \n",
       "2022-06-01 23:59:59+00:00  serem ya kasih komen di komunitas salah satu a...   \n",
       "\n",
       "                           nltk_polarity  \n",
       "time                                      \n",
       "2022-05-27 02:54:23+00:00         0.0258  \n",
       "2022-05-27 02:54:23+00:00         0.4588  \n",
       "2022-05-27 02:54:24+00:00         0.4767  \n",
       "2022-05-27 02:54:24+00:00         0.4588  \n",
       "2022-05-27 02:54:24+00:00        -0.3400  \n",
       "...                                  ...  \n",
       "2022-06-01 23:59:58+00:00         0.0772  \n",
       "2022-06-01 23:59:58+00:00         0.3400  \n",
       "2022-06-01 23:59:58+00:00         0.4404  \n",
       "2022-06-01 23:59:59+00:00        -0.1027  \n",
       "2022-06-01 23:59:59+00:00        -0.2960  \n",
       "\n",
       "[2400 rows x 3 columns]"
      ]
     },
     "execution_count": 40,
     "metadata": {},
     "output_type": "execute_result"
    }
   ],
   "source": [
    "ada_data"
   ]
  },
  {
   "cell_type": "code",
   "execution_count": 41,
   "id": "2136838e",
   "metadata": {},
   "outputs": [
    {
     "data": {
      "text/plain": [
       "tweet             @dinoxdj99 ada ka jaehyun collector yg drop ? ...\n",
       "cleaned_tweets    ada ka jaehyun collector yg drop wkwkwkwk nnti...\n",
       "nltk_polarity                                                8.3303\n",
       "dtype: object"
      ]
     },
     "execution_count": 41,
     "metadata": {},
     "output_type": "execute_result"
    }
   ],
   "source": [
    "ada_data.loc[ada_data.index < '2022-05-27 03:00:00'].sum()"
   ]
  },
  {
   "cell_type": "code",
   "execution_count": 42,
   "id": "ac591dfa",
   "metadata": {},
   "outputs": [
    {
     "data": {
      "text/plain": [
       "0.24500882352941175"
      ]
     },
     "execution_count": 42,
     "metadata": {},
     "output_type": "execute_result"
    }
   ],
   "source": [
    " 8.3303/34"
   ]
  },
  {
   "cell_type": "code",
   "execution_count": 43,
   "id": "e614705c",
   "metadata": {},
   "outputs": [],
   "source": [
    "ada_dataset = pd.DataFrame(ada_data.resample('D').mean()['nltk_polarity'])"
   ]
  },
  {
   "cell_type": "code",
   "execution_count": 44,
   "id": "fb7042de",
   "metadata": {},
   "outputs": [],
   "source": [
    "ada_dataset_daily = pd.DataFrame(ada_data.resample('D').mean()['nltk_polarity'])\n",
    "btc_dataset_daily = pd.DataFrame(btc_data.resample('D').mean()['nltk_polarity'])\n",
    "eth_dataset_daily = pd.DataFrame(eth_data.resample('D').mean()['nltk_polarity'])\n",
    "bin_dataset_daily = pd.DataFrame(bin_data.resample('D').mean()['nltk_polarity'])\n",
    "xrp_dataset_daily = pd.DataFrame(xrp_data.resample('D').mean()['nltk_polarity'])\n",
    "sol_dataset_daily = pd.DataFrame(sol_data.resample('D').mean()['nltk_polarity'])\n",
    "matic_dataset_daily = pd.DataFrame(matic_data.resample('D').mean()['nltk_polarity'])\n",
    "sand_dataset_daily = pd.DataFrame(sand_data.resample('D').mean()['nltk_polarity'])\n",
    "algo_dataset_daily = pd.DataFrame(algo_data.resample('D').mean()['nltk_polarity'])\n",
    "mana_dataset_daily = pd.DataFrame(mana_data.resample('D').mean()['nltk_polarity'])"
   ]
  },
  {
   "cell_type": "code",
   "execution_count": 46,
   "id": "f62729e3",
   "metadata": {},
   "outputs": [],
   "source": [
    "ada_dataset_hourly = pd.DataFrame(ada_data.resample('H').mean()['nltk_polarity'])\n",
    "btc_dataset_hourly = pd.DataFrame(btc_data.resample('H').mean()['nltk_polarity'])\n",
    "eth_dataset_hourly = pd.DataFrame(eth_data.resample('H').mean()['nltk_polarity'])\n",
    "bin_dataset_hourly = pd.DataFrame(bin_data.resample('H').mean()['nltk_polarity'])\n",
    "xrp_dataset_hourly = pd.DataFrame(xrp_data.resample('H').mean()['nltk_polarity'])\n",
    "sol_dataset_hourly = pd.DataFrame(sol_data.resample('H').mean()['nltk_polarity'])\n",
    "matic_dataset_hourly = pd.DataFrame(matic_data.resample('H').mean()['nltk_polarity'])\n",
    "sand_dataset_hourly = pd.DataFrame(sand_data.resample('H').mean()['nltk_polarity'])\n",
    "algo_dataset_hourly = pd.DataFrame(algo_data.resample('H').mean()['nltk_polarity'])\n",
    "mana_dataset_hourly = pd.DataFrame(mana_data.resample('H').mean()['nltk_polarity'])"
   ]
  },
  {
   "cell_type": "code",
   "execution_count": 47,
   "id": "7a5d3068",
   "metadata": {},
   "outputs": [
    {
     "data": {
      "text/html": [
       "<div>\n",
       "<style scoped>\n",
       "    .dataframe tbody tr th:only-of-type {\n",
       "        vertical-align: middle;\n",
       "    }\n",
       "\n",
       "    .dataframe tbody tr th {\n",
       "        vertical-align: top;\n",
       "    }\n",
       "\n",
       "    .dataframe thead th {\n",
       "        text-align: right;\n",
       "    }\n",
       "</style>\n",
       "<table border=\"1\" class=\"dataframe\">\n",
       "  <thead>\n",
       "    <tr style=\"text-align: right;\">\n",
       "      <th></th>\n",
       "      <th>nltk_polarity</th>\n",
       "    </tr>\n",
       "    <tr>\n",
       "      <th>time</th>\n",
       "      <th></th>\n",
       "    </tr>\n",
       "  </thead>\n",
       "  <tbody>\n",
       "    <tr>\n",
       "      <th>2022-05-27 02:00:00+00:00</th>\n",
       "      <td>0.245009</td>\n",
       "    </tr>\n",
       "    <tr>\n",
       "      <th>2022-05-27 03:00:00+00:00</th>\n",
       "      <td>NaN</td>\n",
       "    </tr>\n",
       "    <tr>\n",
       "      <th>2022-05-27 04:00:00+00:00</th>\n",
       "      <td>0.339172</td>\n",
       "    </tr>\n",
       "    <tr>\n",
       "      <th>2022-05-27 05:00:00+00:00</th>\n",
       "      <td>0.398100</td>\n",
       "    </tr>\n",
       "    <tr>\n",
       "      <th>2022-05-27 06:00:00+00:00</th>\n",
       "      <td>NaN</td>\n",
       "    </tr>\n",
       "    <tr>\n",
       "      <th>...</th>\n",
       "      <td>...</td>\n",
       "    </tr>\n",
       "    <tr>\n",
       "      <th>2022-06-01 19:00:00+00:00</th>\n",
       "      <td>0.409513</td>\n",
       "    </tr>\n",
       "    <tr>\n",
       "      <th>2022-06-01 20:00:00+00:00</th>\n",
       "      <td>NaN</td>\n",
       "    </tr>\n",
       "    <tr>\n",
       "      <th>2022-06-01 21:00:00+00:00</th>\n",
       "      <td>0.036009</td>\n",
       "    </tr>\n",
       "    <tr>\n",
       "      <th>2022-06-01 22:00:00+00:00</th>\n",
       "      <td>0.273547</td>\n",
       "    </tr>\n",
       "    <tr>\n",
       "      <th>2022-06-01 23:00:00+00:00</th>\n",
       "      <td>0.335250</td>\n",
       "    </tr>\n",
       "  </tbody>\n",
       "</table>\n",
       "<p>142 rows × 1 columns</p>\n",
       "</div>"
      ],
      "text/plain": [
       "                           nltk_polarity\n",
       "time                                    \n",
       "2022-05-27 02:00:00+00:00       0.245009\n",
       "2022-05-27 03:00:00+00:00            NaN\n",
       "2022-05-27 04:00:00+00:00       0.339172\n",
       "2022-05-27 05:00:00+00:00       0.398100\n",
       "2022-05-27 06:00:00+00:00            NaN\n",
       "...                                  ...\n",
       "2022-06-01 19:00:00+00:00       0.409513\n",
       "2022-06-01 20:00:00+00:00            NaN\n",
       "2022-06-01 21:00:00+00:00       0.036009\n",
       "2022-06-01 22:00:00+00:00       0.273547\n",
       "2022-06-01 23:00:00+00:00       0.335250\n",
       "\n",
       "[142 rows x 1 columns]"
      ]
     },
     "execution_count": 47,
     "metadata": {},
     "output_type": "execute_result"
    }
   ],
   "source": [
    "ada_dataset_hourly"
   ]
  },
  {
   "cell_type": "code",
   "execution_count": 48,
   "id": "f58b386d",
   "metadata": {},
   "outputs": [],
   "source": [
    "ada_dataset_daily.to_csv('ada_dataset_daily.csv', encoding='utf-8')"
   ]
  },
  {
   "cell_type": "code",
   "execution_count": 49,
   "id": "7120ed3e",
   "metadata": {},
   "outputs": [],
   "source": [
    "btc_dataset_daily.to_csv('btc_dataset_daily.csv', encoding='utf-8')\n",
    "eth_dataset_daily.to_csv('eth_dataset_daily.csv', encoding='utf-8')\n",
    "bin_dataset_daily.to_csv('bin_dataset_daily.csv', encoding='utf-8')\n",
    "xrp_dataset_daily.to_csv('xrp_dataset_daily.csv', encoding='utf-8')\n",
    "sol_dataset_daily.to_csv('sol_dataset_daily.csv', encoding='utf-8')\n",
    "matic_dataset_daily.to_csv('matic_dataset_daily.csv', encoding='utf-8')\n",
    "sand_dataset_daily.to_csv('sand_dataset_daily.csv', encoding='utf-8')\n",
    "algo_dataset_daily.to_csv('algo_dataset_daily.csv', encoding='utf-8')\n",
    "mana_dataset_daily.to_csv('mana_dataset_daily.csv', encoding='utf-8')"
   ]
  },
  {
   "cell_type": "code",
   "execution_count": 50,
   "id": "3fb7722a",
   "metadata": {},
   "outputs": [],
   "source": [
    "btc_dataset_hourly.to_csv('btc_dataset_hourly.csv', encoding='utf-8')\n",
    "eth_dataset_hourly.to_csv('eth_dataset_hourly.csv', encoding='utf-8')\n",
    "bin_dataset_hourly.to_csv('bin_dataset_hourly.csv', encoding='utf-8')\n",
    "xrp_dataset_hourly.to_csv('xrp_dataset_hourly.csv', encoding='utf-8')\n",
    "sol_dataset_hourly.to_csv('sol_dataset_hourly.csv', encoding='utf-8')\n",
    "matic_dataset_hourly.to_csv('matic_dataset_hourly.csv', encoding='utf-8')\n",
    "sand_dataset_hourly.to_csv('sand_dataset_hourly.csv', encoding='utf-8')\n",
    "algo_dataset_hourly.to_csv('algo_dataset_hourly.csv', encoding='utf-8')\n",
    "mana_dataset_hourly.to_csv('mana_dataset_hourly.csv', encoding='utf-8')"
   ]
  },
  {
   "cell_type": "code",
   "execution_count": null,
   "id": "a42c45b6",
   "metadata": {},
   "outputs": [],
   "source": []
  }
 ],
 "metadata": {
  "interpreter": {
   "hash": "84ccb2cf13a0e076ed298022c76ac85fcc3c4e50af2dccdbe65f5b41cc5eba50"
  },
  "kernelspec": {
   "display_name": "Python 3.7.11 ('pyvizenv')",
   "language": "python",
   "name": "python3"
  },
  "language_info": {
   "codemirror_mode": {
    "name": "ipython",
    "version": 3
   },
   "file_extension": ".py",
   "mimetype": "text/x-python",
   "name": "python",
   "nbconvert_exporter": "python",
   "pygments_lexer": "ipython3",
   "version": "3.7.11"
  }
 },
 "nbformat": 4,
 "nbformat_minor": 5
}
